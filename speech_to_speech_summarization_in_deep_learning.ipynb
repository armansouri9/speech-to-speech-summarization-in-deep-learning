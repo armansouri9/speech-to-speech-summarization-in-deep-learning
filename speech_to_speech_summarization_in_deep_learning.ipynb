{
  "cells": [
    {
      "cell_type": "markdown",
      "id": "5077d022-9c52-479c-9cdb-06ad1a66a064",
      "metadata": {
        "id": "5077d022-9c52-479c-9cdb-06ad1a66a064"
      },
      "source": [
        "https://github.com/dataquestio/project-walkthroughs/tree/master/speech_recognition"
      ]
    },
    {
      "cell_type": "code",
      "source": [
        "from google.colab import drive\n",
        "drive.mount('/content/drive')"
      ],
      "metadata": {
        "colab": {
          "base_uri": "https://localhost:8080/"
        },
        "id": "j-eQUB9CpeIk",
        "outputId": "dc5d63c4-6180-4e54-c0da-6f2bc5327546"
      },
      "id": "j-eQUB9CpeIk",
      "execution_count": null,
      "outputs": [
        {
          "output_type": "stream",
          "name": "stdout",
          "text": [
            "Drive already mounted at /content/drive; to attempt to forcibly remount, call drive.mount(\"/content/drive\", force_remount=True).\n",
            "Drive already mounted at /content/drive; to attempt to forcibly remount, call drive.mount(\"/content/drive\", force_remount=True).\n"
          ]
        }
      ]
    },
    {
      "cell_type": "code",
      "source": [
        "# from pydub import AudioSegment\n",
        "\n",
        "# #importing file from location by giving its path\n",
        "# sound = AudioSegment.from_mp3(\"/content/drive/MyDrive/s2s/Bdb001.interaction.wav\")\n",
        "\n",
        "# #Selecting Portion we want to cut\n",
        "# StrtMin = 0\n",
        "# StrtSec = 8\n",
        "\n",
        "# EndMin = 0\n",
        "# EndSec = 70\n",
        "\n",
        "# # Time to milliseconds conversion\n",
        "# StrtTime = StrtMin*60*1000+StrtSec*1000\n",
        "# EndTime = StrtMin*60*1000+EndSec*1000\n",
        "\n",
        "# # Opening file and extracting portion of it\n",
        "# extract = sound[StrtTime:EndTime]\n",
        "\n",
        "# # Saving file in required location\n",
        "# extract.export(\"/content/drive/MyDrive/s2s/short.mp3\", format=\"mp3\")\n",
        "\n",
        "# # new file portion.mp3 is saved at required location"
      ],
      "metadata": {
        "id": "yHObNstSLwlD"
      },
      "id": "yHObNstSLwlD",
      "execution_count": null,
      "outputs": []
    },
    {
      "cell_type": "markdown",
      "id": "53cee9a2-6688-4e74-a5ab-d07c13892414",
      "metadata": {
        "id": "53cee9a2-6688-4e74-a5ab-d07c13892414"
      },
      "source": [
        "%pip install vosk"
      ]
    },
    {
      "cell_type": "code",
      "source": [
        "!pip install vosk"
      ],
      "metadata": {
        "colab": {
          "base_uri": "https://localhost:8080/"
        },
        "id": "W6uE3brlpl5x",
        "outputId": "e5aade16-84fd-4e03-a0ec-42087d1181fe"
      },
      "id": "W6uE3brlpl5x",
      "execution_count": null,
      "outputs": [
        {
          "output_type": "stream",
          "name": "stdout",
          "text": [
            "Looking in indexes: https://pypi.org/simple, https://us-python.pkg.dev/colab-wheels/public/simple/\n",
            "Requirement already satisfied: vosk in /usr/local/lib/python3.8/dist-packages (0.3.45)\n",
            "Requirement already satisfied: cffi>=1.0 in /usr/local/lib/python3.8/dist-packages (from vosk) (1.15.1)\n",
            "Requirement already satisfied: tqdm in /usr/local/lib/python3.8/dist-packages (from vosk) (4.64.1)\n",
            "Requirement already satisfied: srt in /usr/local/lib/python3.8/dist-packages (from vosk) (3.5.2)\n",
            "Requirement already satisfied: websockets in /usr/local/lib/python3.8/dist-packages (from vosk) (10.4)\n",
            "Requirement already satisfied: requests in /usr/local/lib/python3.8/dist-packages (from vosk) (2.25.1)\n",
            "Requirement already satisfied: pycparser in /usr/local/lib/python3.8/dist-packages (from cffi>=1.0->vosk) (2.21)\n",
            "Requirement already satisfied: certifi>=2017.4.17 in /usr/local/lib/python3.8/dist-packages (from requests->vosk) (2022.12.7)\n",
            "Requirement already satisfied: urllib3<1.27,>=1.21.1 in /usr/local/lib/python3.8/dist-packages (from requests->vosk) (1.24.3)\n",
            "Requirement already satisfied: idna<3,>=2.5 in /usr/local/lib/python3.8/dist-packages (from requests->vosk) (2.10)\n",
            "Requirement already satisfied: chardet<5,>=3.0.2 in /usr/local/lib/python3.8/dist-packages (from requests->vosk) (4.0.0)\n",
            "Looking in indexes: https://pypi.org/simple, https://us-python.pkg.dev/colab-wheels/public/simple/\n",
            "Requirement already satisfied: vosk in /usr/local/lib/python3.8/dist-packages (0.3.45)\n",
            "Requirement already satisfied: websockets in /usr/local/lib/python3.8/dist-packages (from vosk) (10.4)\n",
            "Requirement already satisfied: srt in /usr/local/lib/python3.8/dist-packages (from vosk) (3.5.2)\n",
            "Requirement already satisfied: requests in /usr/local/lib/python3.8/dist-packages (from vosk) (2.25.1)\n",
            "Requirement already satisfied: cffi>=1.0 in /usr/local/lib/python3.8/dist-packages (from vosk) (1.15.1)\n",
            "Requirement already satisfied: tqdm in /usr/local/lib/python3.8/dist-packages (from vosk) (4.64.1)\n",
            "Requirement already satisfied: pycparser in /usr/local/lib/python3.8/dist-packages (from cffi>=1.0->vosk) (2.21)\n",
            "Requirement already satisfied: idna<3,>=2.5 in /usr/local/lib/python3.8/dist-packages (from requests->vosk) (2.10)\n",
            "Requirement already satisfied: urllib3<1.27,>=1.21.1 in /usr/local/lib/python3.8/dist-packages (from requests->vosk) (1.24.3)\n",
            "Requirement already satisfied: chardet<5,>=3.0.2 in /usr/local/lib/python3.8/dist-packages (from requests->vosk) (4.0.0)\n",
            "Requirement already satisfied: certifi>=2017.4.17 in /usr/local/lib/python3.8/dist-packages (from requests->vosk) (2022.12.7)\n"
          ]
        }
      ]
    },
    {
      "cell_type": "code",
      "execution_count": null,
      "id": "e6629678-d45b-4dd8-a212-ce58ab4b5807",
      "metadata": {
        "id": "e6629678-d45b-4dd8-a212-ce58ab4b5807"
      },
      "outputs": [],
      "source": [
        "from vosk import Model, KaldiRecognizer"
      ]
    },
    {
      "cell_type": "code",
      "execution_count": null,
      "id": "8529cd3a-0cdb-44c4-9b44-3bdb3c3c8413",
      "metadata": {
        "id": "8529cd3a-0cdb-44c4-9b44-3bdb3c3c8413"
      },
      "outputs": [],
      "source": [
        "FRAME_RATE = 16000\n",
        "CHANNELS=1\n",
        "\n",
        "model = Model(model_name=\"vosk-model-en-us-0.22\")\n",
        "# For a smaller download size, use model = Model(model_name=\"vosk-model-small-en-us-0.15\")\n",
        "rec = KaldiRecognizer(model, FRAME_RATE)\n",
        "rec.SetWords(True)"
      ]
    },
    {
      "cell_type": "code",
      "execution_count": null,
      "id": "1fbfa3f6-eb58-4e38-b4ab-1b089eac9e2b",
      "metadata": {
        "colab": {
          "base_uri": "https://localhost:8080/"
        },
        "id": "1fbfa3f6-eb58-4e38-b4ab-1b089eac9e2b",
        "outputId": "90882074-ab4b-4524-95bf-3a6cdeb3ac4a"
      },
      "outputs": [
        {
          "output_type": "stream",
          "name": "stdout",
          "text": [
            "Looking in indexes: https://pypi.org/simple, https://us-python.pkg.dev/colab-wheels/public/simple/\n",
            "Requirement already satisfied: pydub in /usr/local/lib/python3.8/dist-packages (0.25.1)\n"
          ]
        }
      ],
      "source": [
        "%pip install pydub"
      ]
    },
    {
      "cell_type": "code",
      "execution_count": null,
      "id": "2b7ad229-3be5-456d-b8b7-0a112dfbbd2e",
      "metadata": {
        "id": "2b7ad229-3be5-456d-b8b7-0a112dfbbd2e"
      },
      "outputs": [],
      "source": [
        "from pydub import AudioSegment"
      ]
    },
    {
      "cell_type": "code",
      "execution_count": null,
      "id": "5a2908b5-bff4-4c43-a871-823166fd61fd",
      "metadata": {
        "id": "5a2908b5-bff4-4c43-a871-823166fd61fd"
      },
      "outputs": [],
      "source": [
        "mp3 = AudioSegment.from_mp3(\"/content/drive/MyDrive/s2s/short.mp3\")\n",
        "# mp3 = AudioSegment.from_mp3(\"/content/drive/MyDrive/s2s/Bdb001.interaction.wav\")\n",
        "mp3 = mp3.set_channels(CHANNELS)\n",
        "mp3 = mp3.set_frame_rate(FRAME_RATE)"
      ]
    },
    {
      "cell_type": "code",
      "execution_count": null,
      "id": "9e3e81d0-0178-483e-9186-76916ffc5fd8",
      "metadata": {
        "id": "9e3e81d0-0178-483e-9186-76916ffc5fd8"
      },
      "outputs": [],
      "source": [
        "rec.AcceptWaveform(mp3.raw_data)\n",
        "result = rec.Result()"
      ]
    },
    {
      "cell_type": "code",
      "execution_count": null,
      "id": "a8ed2892-ce39-4105-9f13-ffebc9726218",
      "metadata": {
        "id": "a8ed2892-ce39-4105-9f13-ffebc9726218"
      },
      "outputs": [],
      "source": [
        "import json\n",
        "text = json.loads(result)[\"text\"]"
      ]
    },
    {
      "cell_type": "code",
      "execution_count": null,
      "id": "abeea5c5-defc-439a-a0f3-5cccb942410f",
      "metadata": {
        "colab": {
          "base_uri": "https://localhost:8080/",
          "height": 140
        },
        "id": "abeea5c5-defc-439a-a0f3-5cccb942410f",
        "outputId": "945a0dbd-0835-4ef2-e549-abeff4200e2d"
      },
      "outputs": [
        {
          "output_type": "execute_result",
          "data": {
            "text/plain": [
              "\"morgan wants to make it hard but it doesn't it did it i didn't even check yesterday yesterday either when i started it so i dunno if it doesn't like luxury channel three you know i discovered something yesterday on these dumb wireless ones you can tell if it's picking up breath noise and stuff yet has a little indicator on on the a f so if you yeah if you breathe under breathe and then you see a f go off then you know picking up your mouth nice well that's good because we have a lot of lab tests in fact if you listen to the channels of people talking yeah what did you see hannibal recent years was actually very disconcerting okay so i was going to try to get out of here like in half an hour because i have people coming and\""
            ],
            "application/vnd.google.colaboratory.intrinsic+json": {
              "type": "string"
            }
          },
          "metadata": {},
          "execution_count": 11
        }
      ],
      "source": [
        "text"
      ]
    },
    {
      "cell_type": "markdown",
      "id": "4b4bb907-6793-4e63-8c96-5250832b28ef",
      "metadata": {
        "id": "4b4bb907-6793-4e63-8c96-5250832b28ef"
      },
      "source": [
        "%pip install transformers"
      ]
    },
    {
      "cell_type": "code",
      "source": [
        "%pip install transformers"
      ],
      "metadata": {
        "colab": {
          "base_uri": "https://localhost:8080/"
        },
        "id": "cs7R_-TmqTVk",
        "outputId": "e25a41bb-5475-4077-ba21-b5aa6bc3c48c"
      },
      "id": "cs7R_-TmqTVk",
      "execution_count": null,
      "outputs": [
        {
          "output_type": "stream",
          "name": "stdout",
          "text": [
            "Looking in indexes: https://pypi.org/simple, https://us-python.pkg.dev/colab-wheels/public/simple/\n",
            "Requirement already satisfied: transformers in /usr/local/lib/python3.8/dist-packages (4.25.1)\n",
            "Requirement already satisfied: numpy>=1.17 in /usr/local/lib/python3.8/dist-packages (from transformers) (1.21.6)\n",
            "Requirement already satisfied: requests in /usr/local/lib/python3.8/dist-packages (from transformers) (2.25.1)\n",
            "Requirement already satisfied: packaging>=20.0 in /usr/local/lib/python3.8/dist-packages (from transformers) (21.3)\n",
            "Requirement already satisfied: tqdm>=4.27 in /usr/local/lib/python3.8/dist-packages (from transformers) (4.64.1)\n",
            "Requirement already satisfied: pyyaml>=5.1 in /usr/local/lib/python3.8/dist-packages (from transformers) (6.0)\n",
            "Requirement already satisfied: filelock in /usr/local/lib/python3.8/dist-packages (from transformers) (3.9.0)\n",
            "Requirement already satisfied: regex!=2019.12.17 in /usr/local/lib/python3.8/dist-packages (from transformers) (2022.6.2)\n",
            "Requirement already satisfied: tokenizers!=0.11.3,<0.14,>=0.11.1 in /usr/local/lib/python3.8/dist-packages (from transformers) (0.13.2)\n",
            "Requirement already satisfied: huggingface-hub<1.0,>=0.10.0 in /usr/local/lib/python3.8/dist-packages (from transformers) (0.11.1)\n",
            "Requirement already satisfied: typing-extensions>=3.7.4.3 in /usr/local/lib/python3.8/dist-packages (from huggingface-hub<1.0,>=0.10.0->transformers) (4.4.0)\n",
            "Requirement already satisfied: pyparsing!=3.0.5,>=2.0.2 in /usr/local/lib/python3.8/dist-packages (from packaging>=20.0->transformers) (3.0.9)\n",
            "Requirement already satisfied: certifi>=2017.4.17 in /usr/local/lib/python3.8/dist-packages (from requests->transformers) (2022.12.7)\n",
            "Requirement already satisfied: chardet<5,>=3.0.2 in /usr/local/lib/python3.8/dist-packages (from requests->transformers) (4.0.0)\n",
            "Requirement already satisfied: urllib3<1.27,>=1.21.1 in /usr/local/lib/python3.8/dist-packages (from requests->transformers) (1.24.3)\n",
            "Requirement already satisfied: idna<3,>=2.5 in /usr/local/lib/python3.8/dist-packages (from requests->transformers) (2.10)\n"
          ]
        }
      ]
    },
    {
      "cell_type": "markdown",
      "id": "dd3105f0-1785-4e45-bb91-187d17713471",
      "metadata": {
        "id": "dd3105f0-1785-4e45-bb91-187d17713471"
      },
      "source": [
        "%pip install torch -f https://download.pytorch.org/whl/torch_stable.html"
      ]
    },
    {
      "cell_type": "code",
      "source": [
        "# !wget https://alphacephei.com/vosk/models/vosk-recasepunc-en-0.22.zip"
      ],
      "metadata": {
        "id": "pUYLGd6IwHjg"
      },
      "id": "pUYLGd6IwHjg",
      "execution_count": null,
      "outputs": []
    },
    {
      "cell_type": "code",
      "source": [
        "# !unzip /content/vosk-recasepunc-en-0.22.zip -d /content/drive/MyDrive/s2s"
      ],
      "metadata": {
        "id": "22zcVB1hweRe"
      },
      "id": "22zcVB1hweRe",
      "execution_count": null,
      "outputs": []
    },
    {
      "cell_type": "code",
      "execution_count": null,
      "id": "82058215-6972-4b52-9a7c-0b363565c257",
      "metadata": {
        "id": "82058215-6972-4b52-9a7c-0b363565c257"
      },
      "outputs": [],
      "source": [
        "import subprocess\n",
        "\n",
        "cased = subprocess.check_output('python /content/drive/MyDrive/s2s/vosk-recasepunc-en-0.22/recasepunc.py predict /content/drive/MyDrive/s2s/vosk-recasepunc-en-0.22/checkpoint', shell=True, text=True, input=text)"
      ]
    },
    {
      "cell_type": "code",
      "execution_count": null,
      "id": "20b5a0db-2eab-48cc-9090-ea3b4618222e",
      "metadata": {
        "colab": {
          "base_uri": "https://localhost:8080/",
          "height": 140
        },
        "id": "20b5a0db-2eab-48cc-9090-ea3b4618222e",
        "outputId": "892fc603-7f04-46d7-ffb4-eed4757134cd"
      },
      "outputs": [
        {
          "output_type": "execute_result",
          "data": {
            "text/plain": [
              "\"Morgan wants to make it hard, but it doesn ' t. It did it. I didn ' t even check yesterday yesterday either when I started it. So I dunno if it doesn ' t like Luxury channel three. You know I discovered something yesterday on these dumb wireless ones. You can tell if it ' s picking up breath, noise and stuff yet has a little indicator on on the A F. So if you. Yeah, if you breathe under breathe and then you see a F go off, then you know, picking up your mouth. Nice. Well, that ' s good because we have a lot of lab tests. In fact, if you listen to the channels of people talking, yeah, what did you see ? Hannibal recent years was actually very disconcerting Okay, so I was going to try to get out of here like in half an hour because I have people coming and.\\n\""
            ],
            "application/vnd.google.colaboratory.intrinsic+json": {
              "type": "string"
            }
          },
          "metadata": {},
          "execution_count": 16
        }
      ],
      "source": [
        "cased"
      ]
    },
    {
      "cell_type": "code",
      "execution_count": null,
      "id": "957d3aef-9c37-421f-acfc-21111d5158df",
      "metadata": {
        "colab": {
          "base_uri": "https://localhost:8080/"
        },
        "id": "957d3aef-9c37-421f-acfc-21111d5158df",
        "outputId": "55ffd692-a334-48c4-9bf3-dab9c3072530"
      },
      "outputs": [
        {
          "output_type": "stream",
          "name": "stderr",
          "text": [
            "No model was supplied, defaulted to sshleifer/distilbart-cnn-12-6 and revision a4f8f3e (https://huggingface.co/sshleifer/distilbart-cnn-12-6).\n",
            "Using a pipeline without specifying a model name and revision in production is not recommended.\n"
          ]
        }
      ],
      "source": [
        "from transformers import pipeline\n",
        "summarizer = pipeline(\"summarization\")\n",
        "# For a smaller model, use: summarizer = pipeline(\"summarization\", model=\"t5-small\")"
      ]
    },
    {
      "cell_type": "code",
      "execution_count": null,
      "id": "18e3b982-da04-4f17-9b49-28bdcf8c2151",
      "metadata": {
        "id": "18e3b982-da04-4f17-9b49-28bdcf8c2151"
      },
      "outputs": [],
      "source": [
        "# split_tokens = transcript.split(\" \")\n",
        "split_tokens = cased.split(\" \")\n",
        "\n",
        "docs = []\n",
        "\n",
        "for i in range(0, len(split_tokens), 850):\n",
        "    selection = \" \".join(split_tokens[i:(i+850)])\n",
        "    docs.append(selection)"
      ]
    },
    {
      "cell_type": "code",
      "execution_count": null,
      "id": "2f75311e-95fb-43eb-a068-9c17e99f1f01",
      "metadata": {
        "id": "2f75311e-95fb-43eb-a068-9c17e99f1f01"
      },
      "outputs": [],
      "source": [
        "summaries = summarizer(docs)"
      ]
    },
    {
      "cell_type": "code",
      "execution_count": null,
      "id": "3d61cc49-72e4-44e6-9fa2-91eb169ba0d0",
      "metadata": {
        "id": "3d61cc49-72e4-44e6-9fa2-91eb169ba0d0"
      },
      "outputs": [],
      "source": [
        "summary = \"\\n\\n\".join([d[\"summary_text\"] for d in summaries])"
      ]
    },
    {
      "cell_type": "code",
      "execution_count": null,
      "id": "ff0d8cd7-000f-419f-98ee-b57b747b01db",
      "metadata": {
        "colab": {
          "base_uri": "https://localhost:8080/"
        },
        "id": "ff0d8cd7-000f-419f-98ee-b57b747b01db",
        "outputId": "2d3de873-f362-40d5-e9ff-66cd07c4cfc7"
      },
      "outputs": [
        {
          "output_type": "stream",
          "name": "stdout",
          "text": [
            " You can tell if it 's picking up breath, noise and stuff yet has a little indicator on on the A F . If you breathe under breathe and then you see a F go off, then you know, picking up your mouth . Well, that 's good because we have a lot of lab tests . In fact, if you listen to the channels of people talking, yeah, what did you see ? Hannibal recent years was actually very disconcerting .\n"
          ]
        }
      ],
      "source": [
        "print(summary)"
      ]
    },
    {
      "cell_type": "code",
      "source": [
        "import torch\n",
        "import torchaudio\n",
        "import matplotlib.pyplot as plt"
      ],
      "metadata": {
        "id": "ASSxTF-41ilp"
      },
      "id": "ASSxTF-41ilp",
      "execution_count": null,
      "outputs": []
    },
    {
      "cell_type": "code",
      "source": [
        "import IPython\n",
        "\n",
        "print(torch.__version__)\n",
        "print(torchaudio.__version__)\n",
        "\n",
        "torch.random.manual_seed(0)\n",
        "device = \"cuda\" if torch.cuda.is_available() else \"cpu\""
      ],
      "metadata": {
        "colab": {
          "base_uri": "https://localhost:8080/"
        },
        "id": "x4O9kXfr1kpi",
        "outputId": "ecb1a751-6623-4cb5-e64e-bb36ea23bce2"
      },
      "id": "x4O9kXfr1kpi",
      "execution_count": null,
      "outputs": [
        {
          "output_type": "stream",
          "name": "stdout",
          "text": [
            "1.13.1+cu116\n",
            "0.13.1+cu116\n"
          ]
        }
      ]
    },
    {
      "cell_type": "code",
      "source": [
        "!pip install deep-phonemizer"
      ],
      "metadata": {
        "colab": {
          "base_uri": "https://localhost:8080/"
        },
        "id": "3CcJZEFW39BW",
        "outputId": "4a0db684-e4b3-4d19-8d63-247a5670afb0"
      },
      "id": "3CcJZEFW39BW",
      "execution_count": null,
      "outputs": [
        {
          "output_type": "stream",
          "name": "stdout",
          "text": [
            "Looking in indexes: https://pypi.org/simple, https://us-python.pkg.dev/colab-wheels/public/simple/\n",
            "Requirement already satisfied: deep-phonemizer in /usr/local/lib/python3.8/dist-packages (0.0.17)\n",
            "Requirement already satisfied: torch>=1.2.0 in /usr/local/lib/python3.8/dist-packages (from deep-phonemizer) (1.13.1+cu116)\n",
            "Requirement already satisfied: tensorboard in /usr/local/lib/python3.8/dist-packages (from deep-phonemizer) (2.9.1)\n",
            "Requirement already satisfied: PyYAML>=5.1 in /usr/local/lib/python3.8/dist-packages (from deep-phonemizer) (6.0)\n",
            "Requirement already satisfied: tqdm>=4.38.0 in /usr/local/lib/python3.8/dist-packages (from deep-phonemizer) (4.64.1)\n",
            "Requirement already satisfied: typing-extensions in /usr/local/lib/python3.8/dist-packages (from torch>=1.2.0->deep-phonemizer) (4.4.0)\n",
            "Requirement already satisfied: protobuf<3.20,>=3.9.2 in /usr/local/lib/python3.8/dist-packages (from tensorboard->deep-phonemizer) (3.19.6)\n",
            "Requirement already satisfied: grpcio>=1.24.3 in /usr/local/lib/python3.8/dist-packages (from tensorboard->deep-phonemizer) (1.51.1)\n",
            "Requirement already satisfied: tensorboard-data-server<0.7.0,>=0.6.0 in /usr/local/lib/python3.8/dist-packages (from tensorboard->deep-phonemizer) (0.6.1)\n",
            "Requirement already satisfied: werkzeug>=1.0.1 in /usr/local/lib/python3.8/dist-packages (from tensorboard->deep-phonemizer) (1.0.1)\n",
            "Requirement already satisfied: tensorboard-plugin-wit>=1.6.0 in /usr/local/lib/python3.8/dist-packages (from tensorboard->deep-phonemizer) (1.8.1)\n",
            "Requirement already satisfied: wheel>=0.26 in /usr/local/lib/python3.8/dist-packages (from tensorboard->deep-phonemizer) (0.38.4)\n",
            "Requirement already satisfied: google-auth-oauthlib<0.5,>=0.4.1 in /usr/local/lib/python3.8/dist-packages (from tensorboard->deep-phonemizer) (0.4.6)\n",
            "Requirement already satisfied: requests<3,>=2.21.0 in /usr/local/lib/python3.8/dist-packages (from tensorboard->deep-phonemizer) (2.25.1)\n",
            "Requirement already satisfied: setuptools>=41.0.0 in /usr/local/lib/python3.8/dist-packages (from tensorboard->deep-phonemizer) (57.4.0)\n",
            "Requirement already satisfied: numpy>=1.12.0 in /usr/local/lib/python3.8/dist-packages (from tensorboard->deep-phonemizer) (1.21.6)\n",
            "Requirement already satisfied: google-auth<3,>=1.6.3 in /usr/local/lib/python3.8/dist-packages (from tensorboard->deep-phonemizer) (2.16.0)\n",
            "Requirement already satisfied: absl-py>=0.4 in /usr/local/lib/python3.8/dist-packages (from tensorboard->deep-phonemizer) (1.3.0)\n",
            "Requirement already satisfied: markdown>=2.6.8 in /usr/local/lib/python3.8/dist-packages (from tensorboard->deep-phonemizer) (3.4.1)\n",
            "Requirement already satisfied: cachetools<6.0,>=2.0.0 in /usr/local/lib/python3.8/dist-packages (from google-auth<3,>=1.6.3->tensorboard->deep-phonemizer) (5.2.1)\n",
            "Requirement already satisfied: pyasn1-modules>=0.2.1 in /usr/local/lib/python3.8/dist-packages (from google-auth<3,>=1.6.3->tensorboard->deep-phonemizer) (0.2.8)\n",
            "Requirement already satisfied: rsa<5,>=3.1.4 in /usr/local/lib/python3.8/dist-packages (from google-auth<3,>=1.6.3->tensorboard->deep-phonemizer) (4.9)\n",
            "Requirement already satisfied: six>=1.9.0 in /usr/local/lib/python3.8/dist-packages (from google-auth<3,>=1.6.3->tensorboard->deep-phonemizer) (1.15.0)\n",
            "Requirement already satisfied: requests-oauthlib>=0.7.0 in /usr/local/lib/python3.8/dist-packages (from google-auth-oauthlib<0.5,>=0.4.1->tensorboard->deep-phonemizer) (1.3.1)\n",
            "Requirement already satisfied: importlib-metadata>=4.4 in /usr/local/lib/python3.8/dist-packages (from markdown>=2.6.8->tensorboard->deep-phonemizer) (6.0.0)\n",
            "Requirement already satisfied: urllib3<1.27,>=1.21.1 in /usr/local/lib/python3.8/dist-packages (from requests<3,>=2.21.0->tensorboard->deep-phonemizer) (1.24.3)\n",
            "Requirement already satisfied: certifi>=2017.4.17 in /usr/local/lib/python3.8/dist-packages (from requests<3,>=2.21.0->tensorboard->deep-phonemizer) (2022.12.7)\n",
            "Requirement already satisfied: idna<3,>=2.5 in /usr/local/lib/python3.8/dist-packages (from requests<3,>=2.21.0->tensorboard->deep-phonemizer) (2.10)\n",
            "Requirement already satisfied: chardet<5,>=3.0.2 in /usr/local/lib/python3.8/dist-packages (from requests<3,>=2.21.0->tensorboard->deep-phonemizer) (4.0.0)\n",
            "Requirement already satisfied: zipp>=0.5 in /usr/local/lib/python3.8/dist-packages (from importlib-metadata>=4.4->markdown>=2.6.8->tensorboard->deep-phonemizer) (3.11.0)\n",
            "Requirement already satisfied: pyasn1<0.5.0,>=0.4.6 in /usr/local/lib/python3.8/dist-packages (from pyasn1-modules>=0.2.1->google-auth<3,>=1.6.3->tensorboard->deep-phonemizer) (0.4.8)\n",
            "Requirement already satisfied: oauthlib>=3.0.0 in /usr/local/lib/python3.8/dist-packages (from requests-oauthlib>=0.7.0->google-auth-oauthlib<0.5,>=0.4.1->tensorboard->deep-phonemizer) (3.2.2)\n"
          ]
        }
      ]
    },
    {
      "cell_type": "code",
      "source": [
        "summary='''\n",
        "You can tell if it 's picking up breath, noise and stuff yet has a little indicator on on the A F . If you breathe under breathe and then you see a F go off, then you know, picking up your mouth . Well, that 's good because we have a lot of lab tests . In fact, if you listen to the channels of people talking, yeah, what did you see ? Hannibal recent years was actually very disconcerting .\n",
        "'''"
      ],
      "metadata": {
        "id": "XjD78167PZjW"
      },
      "id": "XjD78167PZjW",
      "execution_count": null,
      "outputs": []
    },
    {
      "cell_type": "code",
      "source": [
        "bundle = torchaudio.pipelines.TACOTRON2_WAVERNN_PHONE_LJSPEECH\n",
        "\n",
        "processor = bundle.get_text_processor()\n",
        "tacotron2 = bundle.get_tacotron2().to(device)\n",
        "vocoder = bundle.get_vocoder().to(device)\n",
        "\n",
        "text = summary\n",
        "\n",
        "with torch.inference_mode():\n",
        "    processed, lengths = processor(text)\n",
        "    processed = processed.to(device)\n",
        "    lengths = lengths.to(device)\n",
        "    spec, spec_lengths, _ = tacotron2.infer(processed, lengths)\n",
        "    waveforms, lengths = vocoder(spec, spec_lengths)"
      ],
      "metadata": {
        "colab": {
          "base_uri": "https://localhost:8080/"
        },
        "id": "iuOtOEtX2T8w",
        "outputId": "0a6a8967-a6e9-45f1-8026-3998e040bc13"
      },
      "id": "iuOtOEtX2T8w",
      "execution_count": null,
      "outputs": [
        {
          "output_type": "stream",
          "name": "stderr",
          "text": [
            "/usr/local/lib/python3.8/dist-packages/torchaudio/models/tacotron2.py:856: UserWarning: Reached max decoder steps. The generated spectrogram might not cover the whole transcript.\n",
            "  warnings.warn(\n"
          ]
        }
      ]
    },
    {
      "cell_type": "code",
      "source": [
        "fig, [ax1, ax2] = plt.subplots(2, 1, figsize=(16, 9))\n",
        "ax1.imshow(spec[0].cpu().detach())\n",
        "ax2.plot(waveforms[0].cpu().detach())"
      ],
      "metadata": {
        "colab": {
          "base_uri": "https://localhost:8080/",
          "height": 465
        },
        "id": "MhyP1jnT5RVM",
        "outputId": "5d9a2e9e-a658-43aa-8153-8c80ae9251ac"
      },
      "id": "MhyP1jnT5RVM",
      "execution_count": null,
      "outputs": [
        {
          "output_type": "execute_result",
          "data": {
            "text/plain": [
              "[<matplotlib.lines.Line2D at 0x7f0d8a1e0550>]"
            ]
          },
          "metadata": {},
          "execution_count": 9
        },
        {
          "output_type": "display_data",
          "data": {
            "text/plain": [
              "<Figure size 1152x648 with 2 Axes>"
            ],
            "image/png": "[encoded data removed]"
          },
          "metadata": {
            "needs_background": "light"
          }
        }
      ]
    },
    {
      "cell_type": "code",
      "source": [
        "torchaudio.save('/content/drive/MyDrive/s2s/short_result.wav', waveforms.cpu(), vocoder.sample_rate)"
      ],
      "metadata": {
        "id": "f3U7u-9g5vxv"
      },
      "id": "f3U7u-9g5vxv",
      "execution_count": null,
      "outputs": []
    },
    {
      "cell_type": "code",
      "source": [
        "summary"
      ],
      "metadata": {
        "colab": {
          "base_uri": "https://localhost:8080/",
          "height": 87
        },
        "id": "AXnwzsF26R1J",
        "outputId": "be23b7a2-42ad-4194-97c1-503ba1e5566a"
      },
      "id": "AXnwzsF26R1J",
      "execution_count": null,
      "outputs": [
        {
          "output_type": "execute_result",
          "data": {
            "text/plain": [
              "\"\\nYou can tell if it 's picking up breath, noise and stuff yet has a little indicator on on the A F . If you breathe under breathe and then you see a F go off, then you know, picking up your mouth . Well, that 's good because we have a lot of lab tests . In fact, if you listen to the channels of people talking, yeah, what did you see ? Hannibal recent years was actually very disconcerting .\\n\""
            ],
            "application/vnd.google.colaboratory.intrinsic+json": {
              "type": "string"
            }
          },
          "metadata": {},
          "execution_count": 11
        }
      ]
    }
  ],
  "metadata": {
    "kernelspec": {
      "display_name": "Python 3 (ipykernel)",
      "language": "python",
      "name": "python3"
    },
    "language_info": {
      "codemirror_mode": {
        "name": "ipython",
        "version": 3
      },
      "file_extension": ".py",
      "mimetype": "text/x-python",
      "name": "python",
      "nbconvert_exporter": "python",
      "pygments_lexer": "ipython3",
      "version": "3.9.13"
    },
    "colab": {
      "provenance": []
    },
    "accelerator": "GPU",
    "gpuClass": "standard"
  },
  "nbformat": 4,
  "nbformat_minor": 5
}